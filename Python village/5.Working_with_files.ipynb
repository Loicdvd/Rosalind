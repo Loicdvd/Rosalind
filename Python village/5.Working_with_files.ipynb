{
 "cells": [
  {
   "cell_type": "code",
   "execution_count": 1,
   "metadata": {},
   "outputs": [],
   "source": [
    "with open('rosalind_ini5.txt', 'rt') as file:\n",
    "    i = 0\n",
    "    for line in file:\n",
    "        i += 1\n",
    "        if i%2 == 0:\n",
    "            with open('output.txt', 'a') as file2:\n",
    "                file2.write(line)"
   ]
  }
 ],
 "metadata": {
  "kernelspec": {
   "display_name": "test_env",
   "language": "python",
   "name": "python3"
  },
  "language_info": {
   "codemirror_mode": {
    "name": "ipython",
    "version": 3
   },
   "file_extension": ".py",
   "mimetype": "text/x-python",
   "name": "python",
   "nbconvert_exporter": "python",
   "pygments_lexer": "ipython3",
   "version": "3.9.21"
  }
 },
 "nbformat": 4,
 "nbformat_minor": 2
}
