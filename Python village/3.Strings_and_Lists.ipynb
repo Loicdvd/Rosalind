{
 "cells": [
  {
   "cell_type": "code",
   "execution_count": 16,
   "metadata": {},
   "outputs": [
    {
     "name": "stdout",
     "output_type": "stream",
     "text": [
      "Nb1: 51, Nb2: 56, Nb3: 138, Nb4: 147, String: 3Mx1nKwU7H4o1uTjl7eAqPO9WIAHYWULA5CJ4zBsOsEXk3xRVxEButhuswAYIsiVsKrzchmx9CJhtPgVTAaCcNl2ws0gSCqxJlrYoZDUCDQN6F7Lx4nJxINzmV7QedX4SJg5ww4dKIleucomelasvE1Yf5YckSqu2Z05LUzKFpLNh7DHBBLbH7.\n",
      "\n"
     ]
    }
   ],
   "source": [
    "with open(\"rosalind_ini3.txt\", \"rt\") as file:\n",
    "        string = file.readline()\n",
    "        nb1,nb2,nb3,nb4 = file.readline().strip().split()\n",
    "        print(f\"Nb1: {nb1}, Nb2: {nb2}, Nb3: {nb3}, Nb4: {nb4}, String: {string}\")"
   ]
  },
  {
   "cell_type": "code",
   "execution_count": 17,
   "metadata": {},
   "outputs": [
    {
     "name": "stdout",
     "output_type": "stream",
     "text": [
      "the first word is : Buthus\n",
      "and the second word is : leucomelas\n"
     ]
    }
   ],
   "source": [
    "first_word = string[int(nb1):int(nb2)+1]\n",
    "second_word = string[int(nb3):int(nb4)+1]\n",
    "print(f\"the first word is : {first_word}\\nand the second word is : {second_word}\")"
   ]
  }
 ],
 "metadata": {
  "kernelspec": {
   "display_name": "test_env",
   "language": "python",
   "name": "python3"
  },
  "language_info": {
   "codemirror_mode": {
    "name": "ipython",
    "version": 3
   },
   "file_extension": ".py",
   "mimetype": "text/x-python",
   "name": "python",
   "nbconvert_exporter": "python",
   "pygments_lexer": "ipython3",
   "version": "3.9.21"
  }
 },
 "nbformat": 4,
 "nbformat_minor": 2
}
