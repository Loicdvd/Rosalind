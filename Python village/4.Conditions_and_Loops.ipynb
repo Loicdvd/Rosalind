{
 "cells": [
  {
   "cell_type": "code",
   "execution_count": 6,
   "metadata": {},
   "outputs": [
    {
     "name": "stdout",
     "output_type": "stream",
     "text": [
      "Nb1: 4854, Nb2: 8954\n"
     ]
    }
   ],
   "source": [
    "with open(\"rosalind_ini4.txt\", \"rt\") as file:\n",
    "        nb1,nb2 = file.readline().strip().split()\n",
    "        print(f\"Nb1: {nb1}, Nb2: {nb2}\")"
   ]
  },
  {
   "cell_type": "code",
   "execution_count": 7,
   "metadata": {},
   "outputs": [
    {
     "name": "stdout",
     "output_type": "stream",
     "text": [
      "14153200\n"
     ]
    }
   ],
   "source": [
    "def sum_nb(nb1,nb2):\n",
    "    a=0\n",
    "    for i in range(nb2-nb1+1):\n",
    "        if (nb1+i)%2 != 0:\n",
    "            a += nb1+i\n",
    "    return a\n",
    "res = sum_nb(int(nb1),int(nb2))\n",
    "print(res)"
   ]
  }
 ],
 "metadata": {
  "kernelspec": {
   "display_name": "test_env",
   "language": "python",
   "name": "python3"
  },
  "language_info": {
   "codemirror_mode": {
    "name": "ipython",
    "version": 3
   },
   "file_extension": ".py",
   "mimetype": "text/x-python",
   "name": "python",
   "nbconvert_exporter": "python",
   "pygments_lexer": "ipython3",
   "version": "3.9.21"
  }
 },
 "nbformat": 4,
 "nbformat_minor": 2
}
