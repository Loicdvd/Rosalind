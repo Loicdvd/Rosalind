{
 "cells": [
  {
   "cell_type": "code",
   "execution_count": 13,
   "metadata": {},
   "outputs": [
    {
     "name": "stdout",
     "output_type": "stream",
     "text": [
      "['When', 'I', 'find', 'myself', 'in', 'times', 'of', 'trouble', 'Mother', 'Mary', 'comes', 'to', 'me', 'Speaking', 'words', 'of', 'wisdom', 'let', 'it', 'be', 'And', 'in', 'my', 'hour', 'of', 'darkness', 'she', 'is', 'standing', 'right', 'in', 'front', 'of', 'me', 'Speaking', 'words', 'of', 'wisdom', 'let', 'it', 'be', 'Let', 'it', 'be', 'let', 'it', 'be', 'let', 'it', 'be', 'let', 'it', 'be', 'Whisper', 'words', 'of', 'wisdom', 'let', 'it', 'be', 'And', 'when', 'the', 'broken', 'hearted', 'people', 'living', 'in', 'the', 'world', 'agree', 'There', 'will', 'be', 'an', 'answer', 'let', 'it', 'be', 'For', 'though', 'they', 'may', 'be', 'parted', 'there', 'is', 'still', 'a', 'chance', 'that', 'they', 'will', 'see', 'There', 'will', 'be', 'an', 'answer', 'let', 'it', 'be', 'Let', 'it', 'be', 'let', 'it', 'be', 'let', 'it', 'be', 'let', 'it', 'be', 'There', 'will', 'be', 'an', 'answer', 'let', 'it', 'be', 'Let', 'it', 'be', 'let', 'it', 'be', 'let', 'it', 'be', 'let', 'it', 'be', 'Whisper', 'words', 'of', 'wisdom', 'let', 'it', 'be', 'Let', 'it', 'be', 'let', 'it', 'be', 'let', 'it', 'be', 'let', 'it', 'be', 'Whisper', 'words', 'of', 'wisdom', 'let', 'it', 'be', 'And', 'when', 'the', 'night', 'is', 'cloudy', 'there', 'is', 'still', 'a', 'light', 'that', 'shines', 'on', 'me', 'Shine', 'until', 'tomorrow', 'let', 'it', 'be', 'I', 'wake', 'up', 'to', 'the', 'sound', 'of', 'music', 'Mother', 'Mary', 'comes', 'to', 'me', 'Speaking', 'words', 'of', 'wisdom', 'let', 'it', 'be', 'Let', 'it', 'be', 'let', 'it', 'be', 'let', 'it', 'be', 'yeah', 'let', 'it', 'be', 'There', 'will', 'be', 'an', 'answer', 'let', 'it', 'be', 'Let', 'it', 'be', 'let', 'it', 'be', 'let', 'it', 'be', 'yeah', 'let', 'it', 'be', 'Whisper', 'words', 'of', 'wisdom', 'let', 'it', 'be']\n"
     ]
    }
   ],
   "source": [
    "with open(\"rosalind_ini6.txt\", \"rt\") as file:\n",
    "    s = file.readline().strip().split()\n",
    "print(s)"
   ]
  },
  {
   "cell_type": "code",
   "execution_count": 14,
   "metadata": {},
   "outputs": [
    {
     "name": "stdout",
     "output_type": "stream",
     "text": [
      "{'When': 1, 'I': 2, 'find': 1, 'myself': 1, 'in': 4, 'times': 1, 'of': 11, 'trouble': 1, 'Mother': 2, 'Mary': 2, 'comes': 2, 'to': 3, 'me': 4, 'Speaking': 3, 'words': 7, 'wisdom': 7, 'let': 30, 'it': 36, 'be': 41, 'And': 3, 'my': 1, 'hour': 1, 'darkness': 1, 'she': 1, 'is': 4, 'standing': 1, 'right': 1, 'front': 1, 'Let': 6, 'Whisper': 4, 'when': 2, 'the': 4, 'broken': 1, 'hearted': 1, 'people': 1, 'living': 1, 'world': 1, 'agree': 1, 'There': 4, 'will': 5, 'an': 4, 'answer': 4, 'For': 1, 'though': 1, 'they': 2, 'may': 1, 'parted': 1, 'there': 2, 'still': 2, 'a': 2, 'chance': 1, 'that': 2, 'see': 1, 'night': 1, 'cloudy': 1, 'light': 1, 'shines': 1, 'on': 1, 'Shine': 1, 'until': 1, 'tomorrow': 1, 'wake': 1, 'up': 1, 'sound': 1, 'music': 1, 'yeah': 2}\n"
     ]
    }
   ],
   "source": [
    "dict = {}\n",
    "\n",
    "for word in s:\n",
    "    if word in dict:\n",
    "        dict[word] += 1\n",
    "    else:\n",
    "        dict[word] = 1\n",
    "\n",
    "print(dict)"
   ]
  },
  {
   "cell_type": "code",
   "execution_count": 15,
   "metadata": {},
   "outputs": [
    {
     "name": "stdout",
     "output_type": "stream",
     "text": [
      "When 1\n",
      "\n",
      "I 2\n",
      "\n",
      "find 1\n",
      "\n",
      "myself 1\n",
      "\n",
      "in 4\n",
      "\n",
      "times 1\n",
      "\n",
      "of 11\n",
      "\n",
      "trouble 1\n",
      "\n",
      "Mother 2\n",
      "\n",
      "Mary 2\n",
      "\n",
      "comes 2\n",
      "\n",
      "to 3\n",
      "\n",
      "me 4\n",
      "\n",
      "Speaking 3\n",
      "\n",
      "words 7\n",
      "\n",
      "wisdom 7\n",
      "\n",
      "let 30\n",
      "\n",
      "it 36\n",
      "\n",
      "be 41\n",
      "\n",
      "And 3\n",
      "\n",
      "my 1\n",
      "\n",
      "hour 1\n",
      "\n",
      "darkness 1\n",
      "\n",
      "she 1\n",
      "\n",
      "is 4\n",
      "\n",
      "standing 1\n",
      "\n",
      "right 1\n",
      "\n",
      "front 1\n",
      "\n",
      "Let 6\n",
      "\n",
      "Whisper 4\n",
      "\n",
      "when 2\n",
      "\n",
      "the 4\n",
      "\n",
      "broken 1\n",
      "\n",
      "hearted 1\n",
      "\n",
      "people 1\n",
      "\n",
      "living 1\n",
      "\n",
      "world 1\n",
      "\n",
      "agree 1\n",
      "\n",
      "There 4\n",
      "\n",
      "will 5\n",
      "\n",
      "an 4\n",
      "\n",
      "answer 4\n",
      "\n",
      "For 1\n",
      "\n",
      "though 1\n",
      "\n",
      "they 2\n",
      "\n",
      "may 1\n",
      "\n",
      "parted 1\n",
      "\n",
      "there 2\n",
      "\n",
      "still 2\n",
      "\n",
      "a 2\n",
      "\n",
      "chance 1\n",
      "\n",
      "that 2\n",
      "\n",
      "see 1\n",
      "\n",
      "night 1\n",
      "\n",
      "cloudy 1\n",
      "\n",
      "light 1\n",
      "\n",
      "shines 1\n",
      "\n",
      "on 1\n",
      "\n",
      "Shine 1\n",
      "\n",
      "until 1\n",
      "\n",
      "tomorrow 1\n",
      "\n",
      "wake 1\n",
      "\n",
      "up 1\n",
      "\n",
      "sound 1\n",
      "\n",
      "music 1\n",
      "\n",
      "yeah 2\n",
      "\n"
     ]
    }
   ],
   "source": [
    "with open('output6.txt', 'w') as file2:\n",
    "    file2.write(\"\")\n",
    "\n",
    "with open('output6.txt', 'a') as file2:\n",
    "    for key, value in dict.items():\n",
    "        a = key +\" \"+ str(value) + \"\\n\"\n",
    "        print(a)\n",
    "        file2.write(a)"
   ]
  },
  {
   "cell_type": "code",
   "execution_count": null,
   "metadata": {},
   "outputs": [],
   "source": [
    "with open('output6.txt', 'a') as file2:\n",
    "                file2.write(line)"
   ]
  }
 ],
 "metadata": {
  "kernelspec": {
   "display_name": "test_env",
   "language": "python",
   "name": "python3"
  },
  "language_info": {
   "codemirror_mode": {
    "name": "ipython",
    "version": 3
   },
   "file_extension": ".py",
   "mimetype": "text/x-python",
   "name": "python",
   "nbconvert_exporter": "python",
   "pygments_lexer": "ipython3",
   "version": "3.9.21"
  }
 },
 "nbformat": 4,
 "nbformat_minor": 2
}
