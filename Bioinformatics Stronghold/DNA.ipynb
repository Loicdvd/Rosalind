{
 "cells": [
  {
   "cell_type": "code",
   "execution_count": 7,
   "metadata": {},
   "outputs": [
    {
     "name": "stdout",
     "output_type": "stream",
     "text": [
      "TAACCGCTTGACATCGTCCGGGAATTAGGCTTATACTGCGAAGAAATTAGACGGTCACGCATATTGTTACGCCGGCGGACCCTAGAGGCTGCTCAAAATTTGGTCAGCAGATTACCCAAAGTTTAGTGGGTGTGCCAACTCATGGAGTCGAGTCGGCGCGCATGGATTCCTTTGGTCTGGGTCATAGTCCTAGTGAGCACCACAGCACCAGCCAATCGCCGTCTTGTACTACCAAACTCGACGATAGTTGACAAGTCGCGTCCGAGTCTAGGTGGTGTGAATTTCGCTATCTTTGATGCCCGGGTCGGGCATTCGAGATTACACGTGGCGTACATCCCCTCAATGGTGAGTGCAAGTTCAACCCGGGCCGACTGTAGGGTTTAAAAGGAGACGCTGAGGTAGGCAAGCTCCGGTCTTACGCACCGCCGTTACCGCACCGTGACCTGACCTACCGTTGTCAGAAGTATGGGCTTCGCCCATCAGCCGGCAGTTCGTAGGGATTTCGTTAGACGCCTCTCGCCTGCTAGCGCATTGCTCCTCCCTGTCAGGTTTCCCACCCGAGGTAACCAGTTATGAGCCGGGCATTAAGCGTAGTTACTCCATGAGTTAATCTGCCTAGGAGGACCCACGCGCGGGTCTCCTGGTTAGAAGAAGTCAGGTATTATACAGCCGGCGAGTGCAGCGTGATGCGCCGATATAAAAATGAAGATACGTCGGGGCACAACGAACGAACCGCCATGTAGAGCTCGACTAGTATTTGATTGCATCGTCTTCCGAATGGTTCACACGTACGTTGGGCATTAGAGCGTACGGACTATTTTGATCCAATTATA\n"
     ]
    }
   ],
   "source": [
    "with open(\"rosalind_dna.txt\", \"rt\") as file:\n",
    "    s = file.readline().strip()\n",
    "print(s)"
   ]
  },
  {
   "cell_type": "code",
   "execution_count": 8,
   "metadata": {},
   "outputs": [
    {
     "name": "stdout",
     "output_type": "stream",
     "text": [
      "192 213 226 202\n"
     ]
    }
   ],
   "source": [
    "a,c,g,t = 0,0,0,0\n",
    "for letter in s:\n",
    "    if letter == \"A\":\n",
    "        a += 1\n",
    "    elif letter == \"C\":\n",
    "        c += 1\n",
    "    elif letter == \"G\":\n",
    "        g += 1\n",
    "    elif letter == \"T\":\n",
    "        t += 1\n",
    "print(a,c,g,t)"
   ]
  }
 ],
 "metadata": {
  "kernelspec": {
   "display_name": "test_env",
   "language": "python",
   "name": "python3"
  },
  "language_info": {
   "codemirror_mode": {
    "name": "ipython",
    "version": 3
   },
   "file_extension": ".py",
   "mimetype": "text/x-python",
   "name": "python",
   "nbconvert_exporter": "python",
   "pygments_lexer": "ipython3",
   "version": "3.9.21"
  }
 },
 "nbformat": 4,
 "nbformat_minor": 2
}
