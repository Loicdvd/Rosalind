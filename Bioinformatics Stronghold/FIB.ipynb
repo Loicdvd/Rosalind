{
 "cells": [
  {
   "cell_type": "code",
   "execution_count": 28,
   "metadata": {},
   "outputs": [
    {
     "name": "stdout",
     "output_type": "stream",
     "text": [
      "35 5\n"
     ]
    }
   ],
   "source": [
    "with open(\"rosalind_fib.txt\", \"rt\") as file:\n",
    "    n,k = file.readline().strip().split()\n",
    "print(n,k)"
   ]
  },
  {
   "cell_type": "code",
   "execution_count": 30,
   "metadata": {},
   "outputs": [
    {
     "name": "stdout",
     "output_type": "stream",
     "text": [
      "875089148811941\n"
     ]
    }
   ],
   "source": [
    "def fibo(n,k):\n",
    "    if n <= 2:\n",
    "        return 1\n",
    "    elif n == 3:\n",
    "        return 1 + k\n",
    "    else:\n",
    "        return fibo(n-1,k) + fibo(n-2,k)*k\n",
    "\n",
    "print(fibo(int(n),int(k)))"
   ]
  },
  {
   "cell_type": "code",
   "execution_count": 25,
   "metadata": {},
   "outputs": [
    {
     "name": "stdout",
     "output_type": "stream",
     "text": [
      "4\n",
      "7\n",
      "19\n",
      "40\n",
      "97\n",
      "217\n",
      "508\n",
      "1159\n"
     ]
    }
   ],
   "source": [
    "def fibo(n,k):\n",
    "    a,b,c=1,1,0\n",
    "    \n",
    "    for i in range(n-2):\n",
    "        c = b + k*a\n",
    "        a = b\n",
    "        b = c\n",
    "        print(c)\n",
    "    return c\n",
    "\n",
    "res = fibo(10,3)"
   ]
  }
 ],
 "metadata": {
  "kernelspec": {
   "display_name": "test_env",
   "language": "python",
   "name": "python3"
  },
  "language_info": {
   "codemirror_mode": {
    "name": "ipython",
    "version": 3
   },
   "file_extension": ".py",
   "mimetype": "text/x-python",
   "name": "python",
   "nbconvert_exporter": "python",
   "pygments_lexer": "ipython3",
   "version": "3.9.21"
  }
 },
 "nbformat": 4,
 "nbformat_minor": 2
}
