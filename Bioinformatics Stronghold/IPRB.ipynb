{
 "cells": [
  {
   "cell_type": "code",
   "execution_count": 38,
   "metadata": {},
   "outputs": [
    {
     "name": "stdout",
     "output_type": "stream",
     "text": [
      "30 29 23\n"
     ]
    }
   ],
   "source": [
    "with open(\"rosalind_iprb.txt\", \"rt\") as file:\n",
    "    k,m,n = file.readline().strip().split()\n",
    "print(k,m,n)"
   ]
  },
  {
   "cell_type": "code",
   "execution_count": 39,
   "metadata": {},
   "outputs": [
    {
     "name": "stdout",
     "output_type": "stream",
     "text": [
      "0.79283\n"
     ]
    }
   ],
   "source": [
    "def proba(k,m,n):\n",
    "    nborga = k + m + n\n",
    "    D = ( k*(k-1) + 2*k*m + 2*k*n + m*n + 3*m*(m-1)/4 )/(nborga*(nborga-1))\n",
    "    return D\n",
    "a = proba(int(k),int(m),int(n))\n",
    "print(f\"{a:.5f}\")"
   ]
  }
 ],
 "metadata": {
  "kernelspec": {
   "display_name": "test_env",
   "language": "python",
   "name": "python3"
  },
  "language_info": {
   "codemirror_mode": {
    "name": "ipython",
    "version": 3
   },
   "file_extension": ".py",
   "mimetype": "text/x-python",
   "name": "python",
   "nbconvert_exporter": "python",
   "pygments_lexer": "ipython3",
   "version": "3.9.21"
  }
 },
 "nbformat": 4,
 "nbformat_minor": 2
}
